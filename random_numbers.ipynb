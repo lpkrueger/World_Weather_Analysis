{
 "cells": [
  {
   "cell_type": "code",
   "execution_count": 1,
   "id": "c865cdfa",
   "metadata": {},
   "outputs": [],
   "source": [
    "# Import the random module. # Module 6.1.4\n",
    "import random\n"
   ]
  },
  {
   "cell_type": "code",
   "execution_count": 2,
   "id": "12a7cab7",
   "metadata": {},
   "outputs": [
    {
     "data": {
      "text/plain": [
       "-16"
      ]
     },
     "execution_count": 2,
     "metadata": {},
     "output_type": "execute_result"
    }
   ],
   "source": [
    "random.randint(-90, 90)"
   ]
  },
  {
   "cell_type": "code",
   "execution_count": 4,
   "id": "75dd3531",
   "metadata": {},
   "outputs": [
    {
     "data": {
      "text/plain": [
       "[66.07594083281998,\n",
       " -3.1224170976423067,\n",
       " -30.230009593068853,\n",
       " -54.67827530692277,\n",
       " 24.92072255911465,\n",
       " -64.15416765540321,\n",
       " -60.94919361407891,\n",
       " 58.51041041005252,\n",
       " -18.342169664246722,\n",
       " 86.54950601190666]"
      ]
     },
     "execution_count": 4,
     "metadata": {},
     "output_type": "execute_result"
    }
   ],
   "source": [
    "x = 1\n",
    "latitudes = []\n",
    "while x < 11:\n",
    "    random_lat = random.randint(-90, 89) + random.random()\n",
    "    latitudes.append(random_lat)\n",
    "    x += 1\n",
    "latitudes"
   ]
  },
  {
   "cell_type": "code",
   "execution_count": 5,
   "id": "7bdb3663",
   "metadata": {},
   "outputs": [
    {
     "data": {
      "text/plain": [
       "-18"
      ]
     },
     "execution_count": 5,
     "metadata": {},
     "output_type": "execute_result"
    }
   ],
   "source": [
    "random.randrange(-90, 90, step=1)"
   ]
  },
  {
   "cell_type": "code",
   "execution_count": 6,
   "id": "8812745d",
   "metadata": {},
   "outputs": [
    {
     "data": {
      "text/plain": [
       "6"
      ]
     },
     "execution_count": 6,
     "metadata": {},
     "output_type": "execute_result"
    }
   ],
   "source": [
    "random.randrange(-90, 90, step=3)"
   ]
  },
  {
   "cell_type": "code",
   "execution_count": 7,
   "id": "e3d92522",
   "metadata": {},
   "outputs": [
    {
     "data": {
      "text/plain": [
       "-18.189675218159564"
      ]
     },
     "execution_count": 7,
     "metadata": {},
     "output_type": "execute_result"
    }
   ],
   "source": [
    "random.uniform(-90, 90)"
   ]
  },
  {
   "cell_type": "code",
   "execution_count": 8,
   "id": "2362a9c6",
   "metadata": {},
   "outputs": [],
   "source": [
    "# Import the NumPy module.\n",
    "import numpy as np"
   ]
  },
  {
   "cell_type": "code",
   "execution_count": 9,
   "id": "b57f4d35",
   "metadata": {},
   "outputs": [
    {
     "data": {
      "text/plain": [
       "-4.440699313923318"
      ]
     },
     "execution_count": 9,
     "metadata": {},
     "output_type": "execute_result"
    }
   ],
   "source": [
    "np.random.uniform(-90.000, 90.000)"
   ]
  },
  {
   "cell_type": "code",
   "execution_count": 10,
   "id": "a2b349f9",
   "metadata": {},
   "outputs": [
    {
     "data": {
      "text/plain": [
       "71.33392722277245"
      ]
     },
     "execution_count": 10,
     "metadata": {},
     "output_type": "execute_result"
    }
   ],
   "source": [
    "np.random.uniform(low=-90, high=90)"
   ]
  },
  {
   "cell_type": "code",
   "execution_count": 11,
   "id": "5171dfef",
   "metadata": {},
   "outputs": [
    {
     "data": {
      "text/plain": [
       "array([-61.99742773,  41.82617429, -41.84858347, -17.09062828,\n",
       "       -22.02521841,  56.1505955 ,  62.82430391,   0.92343329,\n",
       "        60.17585324,  67.68365119, -14.06582633,   9.73896691,\n",
       "       -33.81150176, -12.46557809,  40.53336804,  32.56048473,\n",
       "        20.34840445, -85.00546633, -20.58080596,  40.37111098,\n",
       "       -21.0815777 , -71.10702228, -69.2060255 ,  44.44014274,\n",
       "       -43.2016055 ,  50.01097905, -84.13578281, -67.00760855,\n",
       "        28.89216639, -22.10282119,  19.20526366, -49.35463724,\n",
       "       -69.79959149, -81.43837045,   4.1120082 ,   7.16565422,\n",
       "        -5.48715402, -32.56770542,   7.37783758,  40.5461298 ,\n",
       "        19.68636746, -78.07288365,  -1.50274246, -16.26355037,\n",
       "         4.90147617,  18.33535287,   0.15676417, -26.24096728,\n",
       "        47.40246919, -65.765964  ])"
      ]
     },
     "execution_count": 11,
     "metadata": {},
     "output_type": "execute_result"
    }
   ],
   "source": [
    "np.random.uniform(-90.000, 90.000, size=50)"
   ]
  },
  {
   "cell_type": "code",
   "execution_count": 12,
   "id": "b74ab2ab",
   "metadata": {},
   "outputs": [],
   "source": [
    "# Import timeit.\n",
    "import timeit"
   ]
  },
  {
   "cell_type": "code",
   "execution_count": 13,
   "id": "c373b3d8",
   "metadata": {},
   "outputs": [
    {
     "name": "stdout",
     "output_type": "stream",
     "text": [
      "17.9 µs ± 1.14 µs per loop (mean ± std. dev. of 7 runs, 100000 loops each)\n"
     ]
    }
   ],
   "source": [
    "%timeit np.random.uniform(-90.000, 90.000, size=1500)\n"
   ]
  },
  {
   "cell_type": "code",
   "execution_count": 14,
   "id": "19443edc",
   "metadata": {},
   "outputs": [
    {
     "name": "stdout",
     "output_type": "stream",
     "text": [
      "3.01 ms ± 534 µs per loop (mean ± std. dev. of 7 runs, 100 loops each)\n"
     ]
    }
   ],
   "source": [
    "def latitudes(size):\n",
    "    latitudes = []\n",
    "    x = 0\n",
    "    while x < (size):\n",
    "        random_lat = random.randint(-90, 90) + random.random()\n",
    "        latitudes.append(random_lat)\n",
    "        x += 1\n",
    "    return latitudes\n",
    "# Call the function with 1500.\n",
    "%timeit latitudes(1500)"
   ]
  },
  {
   "cell_type": "code",
   "execution_count": null,
   "id": "d417242b",
   "metadata": {},
   "outputs": [],
   "source": []
  },
  {
   "cell_type": "code",
   "execution_count": null,
   "id": "56f88924",
   "metadata": {},
   "outputs": [],
   "source": []
  }
 ],
 "metadata": {
  "kernelspec": {
   "display_name": "PythonData",
   "language": "python",
   "name": "pythondata"
  },
  "language_info": {
   "codemirror_mode": {
    "name": "ipython",
    "version": 3
   },
   "file_extension": ".py",
   "mimetype": "text/x-python",
   "name": "python",
   "nbconvert_exporter": "python",
   "pygments_lexer": "ipython3",
   "version": "3.7.15"
  }
 },
 "nbformat": 4,
 "nbformat_minor": 5
}
